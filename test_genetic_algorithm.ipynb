{
 "cells": [
  {
   "cell_type": "markdown",
   "id": "34fde3e5",
   "metadata": {},
   "source": [
    "# Single Qubit Kraus-Decomposition "
   ]
  },
  {
   "cell_type": "markdown",
   "id": "518a9319",
   "metadata": {},
   "source": [
    "A key insight is that we can engineer a noisy process which acts on an *arbitrary* unitary U. Here, we try to determine the unitary which encodes our process by solving a system of integral equations. "
   ]
  },
  {
   "cell_type": "markdown",
   "id": "2754d342",
   "metadata": {},
   "source": [
    "Computing the fourier expansions of our functions. The vision is that we compute them numerically using integral methods, with q as the input"
   ]
  },
  {
   "cell_type": "code",
   "execution_count": 1,
   "id": "150ac8d1",
   "metadata": {},
   "outputs": [],
   "source": [
    "from scipy import integrate\n",
    "import numpy as np\n",
    "\n",
    "\n",
    "def compute_fourier_expansions(q,init_E, init_nz, ECos, ESin, nzCos, nzSin):\n",
    "    en_gen = init_E \n",
    "    # This computes the ... phase? inside the cos term of the integrand \n",
    "    for i in np.arange(len(ECos)): # Ecos and Esin should be of the same length\n",
    "        en_gen += ECos[i]*np.cos(i*q) + ESin[i]*np.sin(i*q)\n",
    "\n",
    "    nz_gen = init_nz\n",
    "    #Same deal as before\n",
    "    for i in np.arange(len(ECos)): # Ecos and Esin should be of the same length\n",
    "        nz_gen += nzCos[i]*np.cos(i*q) + nzSin[i]*np.sin(i*q)\n",
    "    \n",
    "    return en_gen, nz_gen\n",
    "\n",
    "def compute_en(q, init_E, ECos, ESin):\n",
    "    en_gen = init_E \n",
    "    # This computes the ... phase? inside the cos term of the integrand \n",
    "    for i in np.arange(len(ECos)): # Ecos and Esin should be of the same length\n",
    "        en_gen += ECos[i]*np.cos(i*q) + ESin[i]*np.sin(i*q)\n",
    "        \n",
    "    return en_gen\n",
    "\n",
    "def compute_nz(q, init_nz, nzCos, nzSin):\n",
    "    nz_gen = init_nz\n",
    "    # This computes the ... phase? inside the cos term of the integrand \n",
    "    for i in np.arange(len(nzCos)): # Ecos and Esin should be of the same length\n",
    "        nz_gen += nzCos[i]*np.cos(i*q) + nzSin[i]*np.sin(i*q)\n",
    "    return nz_gen \n",
    "\n",
    "def first_integrand(q, init_E, ECos, ESin):\n",
    "    en_gen = compute_en(q, init_E, ECos, ESin)\n",
    "    return np.cos(en_gen)**2\n",
    "\n",
    "def second_integrand(q, init_E, init_nz,  ECos, ESin, nzCos, nzSin):\n",
    "    en_gen = compute_en(q, init_E, ECos, ESin)\n",
    "    nz_gen = compute_nz(q, init_nz, nzCos, nzSin)\n",
    "    \n",
    "    return (nz_gen*np.sin(en_gen))**2\n",
    "\n",
    "def compute_loss_func(init_E, init_nz, Ecos, Esin, nzCos, nzSin):\n",
    "    integral_one = integrate.quad(first_integrand, -np.pi, np.pi, args=(init_E, Ecos, Esin))[0]\n",
    "    integral_two = integrate.quad(second_integrand, -np.pi, np.pi, args=(init_E, init_nz, Ecos, Esin, nzCos, nzSin))[0]\n",
    "    \n",
    "    return np.abs(1 - (integral_one + integral_two))\n",
    "    "
   ]
  },
  {
   "cell_type": "markdown",
   "id": "7c669cef",
   "metadata": {},
   "source": [
    "Additional helper functions for the genetic algoritm "
   ]
  },
  {
   "cell_type": "code",
   "execution_count": 2,
   "id": "b3fa28b8",
   "metadata": {},
   "outputs": [],
   "source": [
    "# There are n_coeffs coefficients for Ecos, n_coeffs coefficients for Esin, same for both nzCos and nzSin, and 2 for the initial En and nz values. \n",
    "# In all, we have 4*n_coeff + 2 coeffcients we have to consider \n",
    "\n",
    "n_coeffs = 5\n",
    "\n",
    "funky = np.random.rand(4*n_coeffs+2)\n",
    "\n",
    "def assign_coeffs(n_coeffs, coeffs):\n",
    "    \n",
    "    init_E = coeffs[0]\n",
    "    init_nz = coeffs[1]\n",
    "    Ecos = coeffs[1:n_coeffs+1]\n",
    "    Esin = coeffs[n_coeffs+1:2*n_coeffs+1]\n",
    "    nzCos = coeffs[2*n_coeffs+1: 3*n_coeffs+1]\n",
    "    nzSin = coeffs[3*n_coeffs+1:4*n_coeffs+1]\n",
    "    \n",
    "    return init_E, init_nz, Ecos, Esin, nzCos, nzSin \n",
    "\n",
    "\n",
    "# Made for the PyGAD class\n",
    "# ga_instance - this is the instance of the pygad.GA class that stores all of our hyperparameters (?)\n",
    "# solution - these would be the parameters for which we are optimizing for. Change the fitness_batch_size to accept multiple solutions \n",
    "# solution_idx - indices of solution in the population. \n",
    "\n",
    "def the_fitness_function(ga_instance, solution, solution_idx):\n",
    "    init_E, init_nz, Ecos, Esin, nzCos, nzSin = assign_coeffs(n_coeffs, solution)\n",
    "    fitness = compute_loss_func(init_E, init_nz, Ecos, Esin, nzCos, nzSin)\n",
    "    return -fitness\n",
    "  "
   ]
  },
  {
   "cell_type": "markdown",
   "id": "81bb1675",
   "metadata": {},
   "source": [
    "Let's test this out! "
   ]
  },
  {
   "cell_type": "code",
   "execution_count": 3,
   "id": "42b6aee4",
   "metadata": {},
   "outputs": [
    {
     "data": {
      "text/plain": [
       "19.340499265878027"
      ]
     },
     "execution_count": 3,
     "metadata": {},
     "output_type": "execute_result"
    }
   ],
   "source": [
    "#To test...\n",
    "num_of_coeffs = 15\n",
    "\n",
    "init_E = 0.1\n",
    "ECos = np.random.rand(num_of_coeffs)\n",
    "ESin = np.random.rand(num_of_coeffs)\n",
    "\n",
    "init_nz = 0.2\n",
    "nzCos = np.random.rand(num_of_coeffs)\n",
    "nzSin = np.random.rand(num_of_coeffs)\n",
    "\n",
    "#Now, compute the loss function \n",
    "\n",
    "compute_loss_func(init_E, init_nz, ECos, ESin, nzCos, nzSin)\n"
   ]
  },
  {
   "cell_type": "markdown",
   "id": "3c22ca90",
   "metadata": {},
   "source": [
    "## Genetic Algorithm "
   ]
  },
  {
   "cell_type": "markdown",
   "id": "6dbd21b6",
   "metadata": {},
   "source": [
    "Start by preparing the parameters for the genetic algorithm "
   ]
  },
  {
   "cell_type": "code",
   "execution_count": 11,
   "id": "679adf76",
   "metadata": {},
   "outputs": [],
   "source": [
    "import pygad \n",
    "\n",
    "# number of fourier coeffs to use\n",
    "\n",
    "n_coeffs = 1\n",
    "\n",
    "# prepare other parameters \n",
    "num_generations = 3\n",
    "num_parents_mating =  4\n",
    "\n",
    "fitness_function = the_fitness_function\n",
    "\n",
    "sol_per_pop = 60 # number of parents in the population?? \n",
    "num_genes = 4*n_coeffs + 2\n",
    "\n",
    "#lower and upper-bound ranges of the parameterization. \n",
    "init_range_low = 0\n",
    "init_range_high = 2*np.pi\n",
    "\n",
    "parent_selection_type = \"tournament\"\n",
    "K_tournament = 5 # number of contestants, essentially\n",
    "keep_elitism  = 1\n",
    "\n",
    "crossover_type = \"single_point\"\n",
    "\n",
    "mutation_type = \"random\"\n",
    "mutation_percent_genes = 10 # probability of mutation \n",
    "\n",
    "#This function keeps track of the generation number + best fitness\n",
    "def on_gen(ga_instance):\n",
    "    print(\"Generation : \", ga_instance.generations_completed)\n",
    "    print(\"Fitness of the best solution :\", ga_instance.best_solution()[1])\n",
    "\n",
    "    "
   ]
  },
  {
   "cell_type": "markdown",
   "id": "5051ff35",
   "metadata": {},
   "source": [
    "Create an instance of the pygad.GA class containing all of our parameters and run "
   ]
  },
  {
   "cell_type": "code",
   "execution_count": 9,
   "id": "13cc58a1",
   "metadata": {},
   "outputs": [],
   "source": [
    "ga_instance = pygad.GA(num_generations=num_generations,\n",
    "                       num_parents_mating=num_parents_mating,\n",
    "                       fitness_func=fitness_function,\n",
    "                       sol_per_pop=sol_per_pop,\n",
    "                       num_genes=num_genes,\n",
    "                       init_range_low=init_range_low,\n",
    "                       init_range_high=init_range_high,\n",
    "                       parent_selection_type=parent_selection_type,\n",
    "                       crossover_type=crossover_type,\n",
    "                       mutation_type=mutation_type,\n",
    "                       mutation_percent_genes=mutation_percent_genes,\n",
    "                       on_generation=on_gen, \n",
    "                        K_tournament=K_tournament, \n",
    "                        keep_elitism=keep_elitism)"
   ]
  },
  {
   "cell_type": "markdown",
   "id": "01a1eda8",
   "metadata": {},
   "source": [
    "Now run that fucker and plot the results of that fucker"
   ]
  },
  {
   "cell_type": "code",
   "execution_count": 14,
   "id": "8816f91d",
   "metadata": {},
   "outputs": [
    {
     "name": "stderr",
     "output_type": "stream",
     "text": [
      "No artists with labels found to put in legend.  Note that artists whose label start with an underscore are ignored when legend() is called with no argument.\n"
     ]
    },
    {
     "name": "stdout",
     "output_type": "stream",
     "text": [
      "Generation :  7\n",
      "Fitness of the best solution : -5.301367887439395\n",
      "Generation :  8\n",
      "Fitness of the best solution : -5.301367887439395\n",
      "Generation :  9\n",
      "Fitness of the best solution : -5.286808556254866\n"
     ]
    },
    {
     "data": {
      "image/png": "[encoded data removed]",
      "text/plain": [
       "<Figure size 640x480 with 1 Axes>"
      ]
     },
     "metadata": {},
     "output_type": "display_data"
    },
    {
     "data": {
      "text/plain": [
       "<Figure size 640x480 with 0 Axes>"
      ]
     },
     "metadata": {},
     "output_type": "display_data"
    }
   ],
   "source": [
    "import matplotlib.pyplot as plt\n",
    "\n",
    "ga_instance.run()\n",
    "ga_instance.plot_fitness()\n",
    "plt.savefig('plots/figgy.png')"
   ]
  },
  {
   "cell_type": "code",
   "execution_count": null,
   "id": "47617538",
   "metadata": {},
   "outputs": [],
   "source": []
  }
 ],
 "metadata": {
  "kernelspec": {
   "display_name": "Python 3 (ipykernel)",
   "language": "python",
   "name": "python3"
  },
  "language_info": {
   "codemirror_mode": {
    "name": "ipython",
    "version": 3
   },
   "file_extension": ".py",
   "mimetype": "text/x-python",
   "name": "python",
   "nbconvert_exporter": "python",
   "pygments_lexer": "ipython3",
   "version": "3.9.17"
  }
 },
 "nbformat": 4,
 "nbformat_minor": 5
}
